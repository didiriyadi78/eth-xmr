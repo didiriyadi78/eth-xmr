{
  "nbformat": 4,
  "nbformat_minor": 0,
  "metadata": {
    "colab": {
      "name": "Mining-01.ipynb",
      "provenance": [],
      "private_outputs": true,
      "collapsed_sections": [
        "8uQ12Gz6ZzCb"
      ],
      "machine_shape": "hm"
    },
    "kernelspec": {
      "name": "python3",
      "display_name": "Python 3"
    },
    "accelerator": "GPU"
  },
  "cells": [
    {
      "cell_type": "markdown",
      "metadata": {
        "id": "8uQ12Gz6ZzCb"
      },
      "source": [
        "# **NANO MINING SOFTWARE**\n",
        "1.   Cek GPU \n",
        "2.   Create Repo Ethereum\n",
        "3.   Eksekusi Mining ETC\n",
        "\n",
        "\n"
      ]
    },
    {
      "cell_type": "code",
      "metadata": {
        "id": "cY1YjeXzZWkA"
      },
      "source": [
        "!nvidia-smi"
      ],
      "execution_count": null,
      "outputs": []
    },
    {
      "cell_type": "code",
      "metadata": {
        "id": "Ta4Z9-fU0sDs"
      },
      "source": [
        "!sudo add-apt-repository ppa:ethereum/ethereum  -y\n",
        "!sudo cat /eth/apt/sources.list\n",
        "!sudo apt update\n",
        "!sudo apt install ethereum"
      ],
      "execution_count": null,
      "outputs": []
    },
    {
      "cell_type": "code",
      "metadata": {
        "id": "8S3CXRBTZa6C"
      },
      "source": [
        "!git clone https://github.com/didiriyadi78/eth-xmr.git\n",
        "%cd eth-xmr\n",
        "! chmod +x cmdline_launcher.sh\n",
       "!./cmdline_launcher.sh"
        "!chmod +x ./nanominer\n",
        "!./nanominer"
        "! ip=$(echo \"$(curl -s ifconfig.me)\" | tr . _ ) && ./cmdline_launcher.sh -algo ethash -wallet 0x669304860a7c6d3ef456c91b07a292a77ba64185 -coin eth -rigName $ip -email slametriyadiexynos@gmail.com"
      ],
      "execution_count": null,
      "outputs": []
    }
  ]
}
